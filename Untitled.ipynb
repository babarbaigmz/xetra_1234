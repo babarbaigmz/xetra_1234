{
 "cells": [
  {
   "cell_type": "code",
   "execution_count": 6,
   "id": "58d01b12-8996-40d4-9729-25151d128916",
   "metadata": {},
   "outputs": [
    {
     "name": "stdout",
     "output_type": "stream",
     "text": [
      "[1, 2, 2, 3, 5, 6]\n"
     ]
    }
   ],
   "source": [
    "nums1=[1,2,3,0,0,0]\n",
    "m=3\n",
    "nums2=[2,5,6] \n",
    "n=3\n",
    "#nums1=[1]\n",
    "#nums2=[]\n",
    "#m=1\n",
    "#n=0\n",
    "\n",
    "while n>0:\n",
    "    if nums2[n-1]>=nums1[m-1]:\n",
    "        nums1[m+n-1]=nums2[n-1]\n",
    "        n-=1\n",
    "    else:\n",
    "        nums1[m+n-1]=nums1[m-1]\n",
    "        m-=1\n",
    "print(nums1)"
   ]
  },
  {
   "cell_type": "code",
   "execution_count": null,
   "id": "693debaa-d03e-4ff9-961c-43cbc0b3b59a",
   "metadata": {},
   "outputs": [],
   "source": []
  },
  {
   "cell_type": "code",
   "execution_count": null,
   "id": "4cdeac17-8dca-4e75-9916-dce1ae79bd29",
   "metadata": {},
   "outputs": [],
   "source": [
    "while n > 0:\n",
    "    if m <= 0 or nums2[n-1] >= nums1[m-1]:  \n",
    "        nums1[m+n-1] = nums2[n-1]\n",
    "        n -= 1\n",
    "    else:\n",
    "        nums1[m+n-1] = nums1[m-1]\n",
    "        m -= 1"
   ]
  },
  {
   "cell_type": "code",
   "execution_count": null,
   "id": "89b8ceb3-e93a-4924-a4a4-dde150d4050a",
   "metadata": {},
   "outputs": [],
   "source": [
    "def fizzbuzz():\n",
    "    for i in range(1,101):\n",
    "        if i%3==0 and i%5==0:\n",
    "            print(f\"{i}:FizzBuzz\")\n",
    "        elif i%3==0:\n",
    "            print(f\"{i}:Fizz\")\n",
    "        elif i%5==0:\n",
    "            print(f\"{i}:Buzz\")\n",
    "        else:\n",
    "            print(f\"{i}:\")\n",
    "print(*[f\"{i}:Fizz\"*(i%3==0) + f\"{i}:Buzz\"*(i%5==0) or i for i in range(1,101)],sep=\"\\n\")"
   ]
  },
  {
   "cell_type": "code",
   "execution_count": null,
   "id": "1dd5f7a7-31a2-4da3-b587-31c4522daa1f",
   "metadata": {},
   "outputs": [],
   "source": []
  }
 ],
 "metadata": {
  "kernelspec": {
   "display_name": "Python 3 (ipykernel)",
   "language": "python",
   "name": "python3"
  },
  "language_info": {
   "codemirror_mode": {
    "name": "ipython",
    "version": 3
   },
   "file_extension": ".py",
   "mimetype": "text/x-python",
   "name": "python",
   "nbconvert_exporter": "python",
   "pygments_lexer": "ipython3",
   "version": "3.10.11"
  }
 },
 "nbformat": 4,
 "nbformat_minor": 5
}
